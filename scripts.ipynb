{
 "cells": [
  {
   "cell_type": "markdown",
   "id": "4924dfab",
   "metadata": {},
   "source": [
    "## Load model"
   ]
  },
  {
   "cell_type": "code",
   "execution_count": 1,
   "id": "3bdba27f",
   "metadata": {},
   "outputs": [
    {
     "name": "stderr",
     "output_type": "stream",
     "text": [
      "Sliding Window Attention is enabled but not implemented for `sdpa`; unexpected results may be encountered.\n",
      "Loading checkpoint shards: 100%|██████████| 2/2 [00:15<00:00,  7.97s/it]\n",
      "Device set to use cuda\n"
     ]
    }
   ],
   "source": [
    "from transformers import AutoModelForCausalLM, AutoTokenizer, pipeline\n",
    "import torch\n",
    "\n",
    "model_name = \"Qwen/Qwen2.5-7B-Instruct-AWQ\"\n",
    "\n",
    "# don't use device_map=\"auto\", if model can't fully load on GPU it throws error for AWQ models\n",
    "model = AutoModelForCausalLM.from_pretrained(\n",
    "    model_name,\n",
    "    torch_dtype=torch.float16,\n",
    "    device_map=\"cuda\" if torch.cuda.is_available() else \"cpu\",\n",
    ")\n",
    "\n",
    "tokenizer = AutoTokenizer.from_pretrained(model_name)\n",
    "pipe = pipeline(\n",
    "    \"text-generation\",\n",
    "    model=model,\n",
    "    tokenizer=tokenizer,\n",
    "    max_length=98304,\n",
    "    do_sample=True,\n",
    "    temperature=0.75,\n",
    "    top_p=0.95,\n",
    "    top_k=50,\n",
    "    device_map=\"cuda\" if torch.cuda.is_available() else \"cpu\",\n",
    ")"
   ]
  },
  {
   "cell_type": "code",
   "execution_count": 8,
   "id": "c413d56b",
   "metadata": {},
   "outputs": [],
   "source": [
    "prompt = \"tell me about the GSoC.how to apply, how to make proposal etc. explain it in long-response. take as many text as required. \"\n",
    "messages = [\n",
    "    {\"role\": \"system\", \"content\": \"You are a helpful assistant. whose response should be docs compatible. i.e. writable in docx via python-docx. you will only answer in german.\"},\n",
    "    {\"role\": \"user\", \"content\": prompt}\n",
    "]\n",
    "\n",
    "text = tokenizer.apply_chat_template(\n",
    "    messages,\n",
    "    tokenize=False,\n",
    "    add_generation_prompt=True\n",
    ")\n",
    "\n",
    "model_inputs = tokenizer([text], return_tensors=\"pt\").to(model.device)\n",
    "generated_ids = model.generate(\n",
    "    **model_inputs,\n",
    "    max_new_tokens=98304\n",
    ")\n",
    "\n",
    "generated_ids = [\n",
    "    output_ids[len(input_ids):] for input_ids, output_ids in zip(model_inputs.input_ids, generated_ids)\n",
    "]\n",
    "\n",
    "response = tokenizer.batch_decode(generated_ids, skip_special_tokens=True)[0]\n",
    "# output = pipe(messages, max_length=98304, do_sample=True, temperature=0.75, top_p=0.95, top_k=50)\n",
    "# response = output[0]['generated_text'][-1]['content']\n",
    "torch.cuda.empty_cache()\n"
   ]
  },
  {
   "cell_type": "code",
   "execution_count": 9,
   "id": "9574a917",
   "metadata": {},
   "outputs": [
    {
     "name": "stdout",
     "output_type": "stream",
     "text": [
      "Gemeinsame Soziale Campagne (GSoC) ist ein Programm der Google Summer of Code, das darauf abzielt, talentierte Studierende weltweit zu fördern und ihnen die Möglichkeit zu geben, an freier Software-Projekten zu arbeiten. Das Programm wird von Google initiiert und unterstützt, während es von der Free Software Foundation Europe (FSFE) und anderen Organisationen verwaltet wird.\n",
      "\n",
      "### Was ist GSoC?\n",
      "\n",
      "GSoC ist eine global ausgerichtete Programmiersommerschule, in der Studenten an freier Software-Projekten arbeiten. Es bietet nicht nur praktische Erfahrungen im Programmieren und Teamarbeit, sondern auch wertvolle Kontakte innerhalb der freien Software-Bewegung. Teilnehmer arbeiten an spezifischen Projekten, die von den Projekten selbst vorgeschlagen werden.\n",
      "\n",
      "### Wie kann man sich für GSoC bewerben?\n",
      "\n",
      "Die Bewerbungsprozedur für GSoC umfasst mehrere Schritte:\n",
      "\n",
      "1. **Projekt-Untersuchung**: Vor der Anmeldung sollte man sich intensiv mit den Projekten vertraut machen, die am GSoC teilnehmen. Dies kann durch das Lesen der Projektbeschreibungen, Besuchen der Projektwebsites und Kontaktieren der Projektmitarbeiter geschehen.\n",
      "   \n",
      "2. **Bewerbung**: Die Bewerbung muss in einem bestimmten Format gestellt werden. Hier sind die wichtigsten Punkte:\n",
      "   - **Personal Information Form (PIF)**: Diese Formularkomplettierung ist zwingend erforderlich. Sie enthält persönliche Informationen wie Name, E-Mail-Adresse, Bildungsgeschichte, etc.\n",
      "   - **Application**: Die Bewerbungsschreiben müssen detaillierte Informationen über den Bewerber enthalten, einschließlich seiner relevanten Erfahrungen, Hobbys und warum er das Projekt ausgewählt hat.\n",
      "   - **Proposal**: Der Projektvorschlag ist der entscheidende Teil der Bewerbung. Er sollte detailliert sein und den Plan des Bewerbers zum Lösen des ausgewählten Problems beschreiben. Es ist wichtig, dass der Vorschlag kreativ, realistisch und spezifisch ist.\n",
      "\n",
      "3. **Vorstellungsgespräche**: Nach der Bewerbung können Vorstellungsgespräche stattfinden, bei denen der Bewerber seine Fähigkeiten und Motivation unter Beweis stellen muss. Diese sind optional, aber oft empfohlen, um einen besseren Einblick in den Bewerber zu erhalten.\n",
      "\n",
      "4. **Selektion**: Die Auswahl des Bewerbers erfolgt anhand der Bewerbung, des Vorschlags und eventuell der Vorstellungsgespräche. Die Besten werden dann als Teilnehmer des GSoC eingestuft.\n",
      "\n",
      "### Wie erstellt man einen vortrefflichen Projektvorschlag?\n",
      "\n",
      "Ein guter Projektvorschlag ist entscheidend für die Annahme. Hier sind einige Tipps, wie man einen solchen erstellen kann:\n",
      "\n",
      "1. **Verständlichkeit**: Der Vorschlag sollte klar und prägnant sein. Verwende keine technischen Begriffe, die nicht unbedingt notwendig sind.\n",
      "   \n",
      "2. **Klarheit**: Stelle sicher, dass dein Vorschlag klar und präzise ist. Verwende Sätze, die den Zweck des Projekts und deine Vorgehensweise klären.\n",
      "   \n",
      "3. **Relevanz**: Der Vorschlag sollte relevant sein und den Bedarf im Projekt ansprechen. Zeige, wie du die Probleme lösen und die Projektziele erreichen kannst.\n",
      "   \n",
      "4. **Details**: Gib genügend Details, um deinen Plan nachvollziehbar zu machen. Beschreibe die technischen Aspekte, die du ansprechen wirst, und wie du sie implementieren wirst.\n",
      "   \n",
      "5. **Zeitplan**: Ein gut strukturiertes Zeitplan ist wichtig. Zeige, wann du welche Teile des Projekts erledigen wirst, und wie du dich daran halten willst.\n",
      "   \n",
      "6. **Kontaktinformationen**: Stelle sicher, dass alle Kontaktinformationen korrekt sind und du verfügbar bist, um Fragen zu beantworten.\n",
      "\n",
      "### Zusammenfassung\n",
      "\n",
      "GSoC ist ein großartiger Weg, um in der freien Software-Bewegung tätig zu werden. Die Bewerbungsprozedur ist umfassend, aber durch gründliches Vorbereiten und sorgfältiges Arbeiten an dem Projektvorschlag kann man die besten Ergebnisse erzielen. Es ist wichtig, die Richtlinien und Anforderungen sorgfältig zu lesen und die Bewerbung zu prüfen, bevor sie abgeschickt wird. Erfolg im GSoC!\n",
      "\n",
      "Diese Informationen sollten in einer Dokumentation für Python-Dokumentation (docx) gut geeignet sein.\n"
     ]
    }
   ],
   "source": [
    "print(response)\n"
   ]
  },
  {
   "cell_type": "code",
   "execution_count": 13,
   "id": "84a44bfb",
   "metadata": {},
   "outputs": [],
   "source": [
    "SYSTEM_PROMPT = \"You are a helpful assistant that generates tables based on the provided prompt. \" \\\n",
    "            \"You will receive a prompt and you need to generate a table in text format. \" \\\n",
    "            \"The table should be well-structured and easy to read. \" \\\n",
    "            \"Please ensure that the table is formatted correctly and includes all necessary information. \" \\\n",
    "            \"The table should be docx compatible, it needs to be in a format that can be easily converted to a docx file. \""
   ]
  },
  {
   "cell_type": "code",
   "execution_count": 15,
   "id": "74d23a42",
   "metadata": {},
   "outputs": [],
   "source": [
    "system_prompt = (\n",
    "            \"You are a helpful assistant that generates content for tables based on headers and description. \"\n",
    "            \"Respond with only the table content in a JSON array format, no explanation or markdown.\"\n",
    "        )"
   ]
  },
  {
   "cell_type": "code",
   "execution_count": 16,
   "id": "dfd9d6e6",
   "metadata": {},
   "outputs": [
    {
     "data": {
      "text/plain": [
       "'You are a helpful assistant that generates content for tables based on headers and description. Respond with only the table content in a JSON array format, no explanation or markdown.'"
      ]
     },
     "execution_count": 16,
     "metadata": {},
     "output_type": "execute_result"
    }
   ],
   "source": [
    "system_prompt"
   ]
  },
  {
   "cell_type": "code",
   "execution_count": 3,
   "id": "f57ec414",
   "metadata": {},
   "outputs": [],
   "source": [
    "import awq"
   ]
  },
  {
   "cell_type": "markdown",
   "id": "a0209bee",
   "metadata": {},
   "source": [
    "## UnLoad"
   ]
  },
  {
   "cell_type": "code",
   "execution_count": 11,
   "id": "55a5d8c4",
   "metadata": {},
   "outputs": [],
   "source": [
    "# del model, tokenizer, pipe\n",
    "import gc\n",
    "gc.collect()\n",
    "torch.cuda.empty_cache()"
   ]
  },
  {
   "cell_type": "code",
   "execution_count": 27,
   "id": "0059c1a4",
   "metadata": {},
   "outputs": [
    {
     "name": "stdout",
     "output_type": "stream",
     "text": [
      "convert /home/arpbansal/code/esoc/esoc2025-challenge-ecospecs/data/A_2.docx -> /home/arpbansal/code/esoc/esoc2025-challenge-ecospecs/data/A_2.pdf/A_2.pdf using filter : writer_pdf_Export\n"
     ]
    }
   ],
   "source": [
    "import subprocess\n",
    "\n",
    "def convert_docx_to_pdf(docx_path, pdf_path):\n",
    "    command = ['libreoffice', '--headless', '--convert-to', 'pdf', docx_path, '--outdir', pdf_path]\n",
    "    subprocess.run(command, check=True)\n",
    "\n",
    "# Example usage\n",
    "docx_file = 'data/A_2.docx'\n",
    "output_dir = 'data/A_2.pdf'\n",
    "convert_docx_to_pdf(docx_file, output_dir)\n"
   ]
  },
  {
   "cell_type": "code",
   "execution_count": null,
   "id": "2a867301",
   "metadata": {},
   "outputs": [],
   "source": []
  }
 ],
 "metadata": {
  "kernelspec": {
   "display_name": "venv",
   "language": "python",
   "name": "python3"
  },
  "language_info": {
   "codemirror_mode": {
    "name": "ipython",
    "version": 3
   },
   "file_extension": ".py",
   "mimetype": "text/x-python",
   "name": "python",
   "nbconvert_exporter": "python",
   "pygments_lexer": "ipython3",
   "version": "3.12.4"
  }
 },
 "nbformat": 4,
 "nbformat_minor": 5
}
